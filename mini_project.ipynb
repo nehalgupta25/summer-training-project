{
 "cells": [
  {
   "cell_type": "code",
   "execution_count": 29,
   "id": "6a473280",
   "metadata": {},
   "outputs": [],
   "source": [
    "#mini project"
   ]
  },
  {
   "cell_type": "code",
   "execution_count": null,
   "id": "c80000a3",
   "metadata": {},
   "outputs": [],
   "source": [
    "#Banking management system"
   ]
  },
  {
   "cell_type": "code",
   "execution_count": 21,
   "id": "4c794a52",
   "metadata": {},
   "outputs": [
    {
     "name": "stdout",
     "output_type": "stream",
     "text": [
      "table successfully created.\n"
     ]
    }
   ],
   "source": [
    "import sqlite3\n",
    "\n",
    "# Database connection\n",
    "conn = sqlite3.connect(\"atm.db\")\n",
    "curr = conn.cursor()\n",
    "\n",
    "# Table create (run once)\n",
    "curr.execute('''\n",
    "CREATE TABLE IF NOT EXISTS accounts (\n",
    "    acc_no INTEGER PRIMARY KEY AUTOINCREMENT,\n",
    "    name TEXT,\n",
    "    pin TEXT,\n",
    "    balance REAL\n",
    ")\n",
    "''')\n",
    "conn.commit()\n",
    "print(\"table successfully created.\")"
   ]
  },
  {
   "cell_type": "code",
   "execution_count": 12,
   "id": "ab42647f",
   "metadata": {},
   "outputs": [
    {
     "name": "stdout",
     "output_type": "stream",
     "text": [
      " Account created successfully!\n",
      " Account created successfully!\n"
     ]
    }
   ],
   "source": [
    "def create_account(name, pin, balance):\n",
    "    curr.execute(\"INSERT INTO accounts (name, pin, balance) VALUES (?, ?, ?)\", (name, pin, balance))\n",
    "    conn.commit()\n",
    "    print(\" Account created successfully!\")\n",
    "\n",
    "# Example\n",
    "create_account(\"rahul\", \"0618\", 55000)\n",
    "create_account(\"nehal\", \"2510\", 100000)\n"
   ]
  },
  {
   "cell_type": "code",
   "execution_count": 22,
   "id": "33464db7",
   "metadata": {},
   "outputs": [],
   "source": [
    "def login(acc_no, pin):\n",
    "    curr.execute(\"SELECT * FROM accounts WHERE acc_no=? AND pin=?\", (acc_no, pin))\n",
    "    user = curr.fetchone()\n",
    "    if user:\n",
    "        print(f\" Welcome {user[1]}!\")\n",
    "        return user\n",
    "    else:\n",
    "        print(\" Invalid account number or PIN.\")\n",
    "        return None\n"
   ]
  },
  {
   "cell_type": "code",
   "execution_count": 23,
   "id": "d7f02027",
   "metadata": {},
   "outputs": [],
   "source": [
    "def check_balance(acc_no):\n",
    "    curr.execute(\"SELECT balance FROM accounts WHERE acc_no=?\", (acc_no,))\n",
    "    balance = curr.fetchone()[0]\n",
    "    print(f\"Current Balance: ₹{balance}\")\n"
   ]
  },
  {
   "cell_type": "code",
   "execution_count": 24,
   "id": "12a68b38",
   "metadata": {},
   "outputs": [],
   "source": [
    "def deposit(acc_no, amount):\n",
    "    curr.execute(\"UPDATE accounts SET balance = balance + ? WHERE acc_no=?\", (amount, acc_no))\n",
    "    conn.commit()\n",
    "    print(f\" ₹{amount} deposited successfully.\")\n"
   ]
  },
  {
   "cell_type": "code",
   "execution_count": 25,
   "id": "e56984d8",
   "metadata": {},
   "outputs": [],
   "source": [
    "def withdraw(acc_no, amount):\n",
    "    curr.execute(\"SELECT balance FROM accounts WHERE acc_no=?\", (acc_no,))\n",
    "    current_balance = curr.fetchone()[0]\n",
    "\n",
    "    if amount > current_balance:\n",
    "        print(\" Insufficient balance!\")\n",
    "    else:\n",
    "        curr.execute(\"UPDATE accounts SET balance = balance - ? WHERE acc_no=?\", (amount, acc_no))\n",
    "        conn.commit()\n",
    "        print(f\" ₹{amount} withdrawn successfully.\")\n"
   ]
  },
  {
   "cell_type": "code",
   "execution_count": 26,
   "id": "5c0f9784",
   "metadata": {},
   "outputs": [],
   "source": [
    "def atm_menu():\n",
    "    print(\"===== Welcome to Python ATM =====\")\n",
    "    print(\"welcome user!\")\n",
    "    acc_no = int(input(\"Enter Account Number: \"))\n",
    "    pin = input(\"Enter PIN: \")\n",
    "\n",
    "    user = login(acc_no, pin)\n",
    "    if not user:\n",
    "        return\n",
    "\n",
    "    while True:\n",
    "        print(\"\\n--- Menu ---\")\n",
    "        print(\"1. Check Balance\")\n",
    "        print(\"2. Deposit\")\n",
    "        print(\"3. Withdraw\")\n",
    "        print(\"4. Exit\")\n",
    "        choice = input(\"Enter your choice: \")\n",
    "\n",
    "        if choice == '1':\n",
    "            check_balance(acc_no)\n",
    "        elif choice == '2':\n",
    "            amt = float(input(\"Enter amount to deposit: ₹\"))\n",
    "            deposit(acc_no, amt)\n",
    "        elif choice == '3':\n",
    "            amt = float(input(\"Enter amount to withdraw: ₹\"))\n",
    "            withdraw(acc_no, amt)\n",
    "        elif choice == '4':\n",
    "            print(\" Thank you for using the ATM. Bye!\")\n",
    "            break\n",
    "        else:\n",
    "            print(\"Invalid choice.\")\n"
   ]
  },
  {
   "cell_type": "code",
   "execution_count": 27,
   "id": "0deb9abd",
   "metadata": {},
   "outputs": [
    {
     "name": "stdout",
     "output_type": "stream",
     "text": [
      "[(9, 'rahul', '0618', 55000.0), (10, 'nehal', '2510', 100000.0)]\n"
     ]
    }
   ],
   "source": [
    "curr.execute(\"SELECT * FROM accounts\")\n",
    "print(curr.fetchall())"
   ]
  },
  {
   "cell_type": "code",
   "execution_count": 28,
   "id": "7346e9ac",
   "metadata": {},
   "outputs": [
    {
     "name": "stdout",
     "output_type": "stream",
     "text": [
      "===== Welcome to Python ATM =====\n",
      "welcome user!\n",
      "Enter Account Number: 10\n",
      "Enter PIN: 2510\n",
      " Welcome nehal!\n",
      "\n",
      "--- Menu ---\n",
      "1. Check Balance\n",
      "2. Deposit\n",
      "3. Withdraw\n",
      "4. Exit\n",
      "Enter your choice: 1\n",
      "Current Balance: ₹100000.0\n",
      "\n",
      "--- Menu ---\n",
      "1. Check Balance\n",
      "2. Deposit\n",
      "3. Withdraw\n",
      "4. Exit\n",
      "Enter your choice: 2\n",
      "Enter amount to deposit: ₹2500\n",
      " ₹2500.0 deposited successfully.\n",
      "\n",
      "--- Menu ---\n",
      "1. Check Balance\n",
      "2. Deposit\n",
      "3. Withdraw\n",
      "4. Exit\n",
      "Enter your choice: 3\n",
      "Enter amount to withdraw: ₹2000\n",
      " ₹2000.0 withdrawn successfully.\n",
      "\n",
      "--- Menu ---\n",
      "1. Check Balance\n",
      "2. Deposit\n",
      "3. Withdraw\n",
      "4. Exit\n",
      "Enter your choice: 1\n",
      "Current Balance: ₹100500.0\n",
      "\n",
      "--- Menu ---\n",
      "1. Check Balance\n",
      "2. Deposit\n",
      "3. Withdraw\n",
      "4. Exit\n",
      "Enter your choice: 4\n",
      " Thank you for using the ATM. Bye!\n"
     ]
    }
   ],
   "source": [
    "atm_menu()\n",
    "conn.close()\n"
   ]
  },
  {
   "cell_type": "code",
   "execution_count": null,
   "id": "4fbf93e9",
   "metadata": {},
   "outputs": [],
   "source": []
  }
 ],
 "metadata": {
  "kernelspec": {
   "display_name": "Python 3",
   "language": "python",
   "name": "python3"
  },
  "language_info": {
   "codemirror_mode": {
    "name": "ipython",
    "version": 3
   },
   "file_extension": ".py",
   "mimetype": "text/x-python",
   "name": "python",
   "nbconvert_exporter": "python",
   "pygments_lexer": "ipython3",
   "version": "3.8.8"
  }
 },
 "nbformat": 4,
 "nbformat_minor": 5
}
