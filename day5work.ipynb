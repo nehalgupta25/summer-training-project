{
 "cells": [
  {
   "cell_type": "code",
   "execution_count": null,
   "id": "45cae949",
   "metadata": {},
   "outputs": [],
   "source": [
    "#dictionary methods\n",
    "#set(),pop(),update(),key(),values(),item()..."
   ]
  },
  {
   "cell_type": "code",
   "execution_count": null,
   "id": "75bf9e8f",
   "metadata": {},
   "outputs": [],
   "source": [
    "##file operations\n",
    "#read(),readline(),readlines(),open(),write(),writeline(),close()"
   ]
  },
  {
   "cell_type": "code",
   "execution_count": 16,
   "id": "04a9e0ac",
   "metadata": {},
   "outputs": [],
   "source": [
    "#lists questions practice"
   ]
  },
  {
   "cell_type": "code",
   "execution_count": 1,
   "id": "51f0ef24",
   "metadata": {},
   "outputs": [
    {
     "name": "stdout",
     "output_type": "stream",
     "text": [
      "Updated list1: [1, 2, 3, 4, 5, 6]\n"
     ]
    }
   ],
   "source": [
    "# Create two lists: list1 = [1, 2, 3] and list2 = [4, 5, 6]. Extend list1 using list2 and print the updated list.\n",
    "list1 = [1, 2, 3]\n",
    "list2 = [4, 5, 6]\n",
    "\n",
    "list1.extend(list2)\n",
    "print(\"Updated list1:\", list1)"
   ]
  },
  {
   "cell_type": "code",
   "execution_count": 2,
   "id": "c9f0dc99",
   "metadata": {},
   "outputs": [
    {
     "name": "stdout",
     "output_type": "stream",
     "text": [
      "[10, 20, 25, 30, 40]\n"
     ]
    }
   ],
   "source": [
    "# Insert the value 25 at index 2 in the list: l = [10, 20, 30, 40].\n",
    "L = [10, 20, 30, 40]\n",
    "L.insert(2,25)\n",
    "print(L)"
   ]
  },
  {
   "cell_type": "code",
   "execution_count": 3,
   "id": "c61419e1",
   "metadata": {},
   "outputs": [
    {
     "name": "stdout",
     "output_type": "stream",
     "text": [
      "[10, 30, 20, 40]\n"
     ]
    }
   ],
   "source": [
    "# Remove the element at 1 index from the list: l = [10, 20, 30, 20, 40]\n",
    "l = [10, 20, 30, 20, 40]\n",
    "l.pop(1)\n",
    "print(l)"
   ]
  },
  {
   "cell_type": "code",
   "execution_count": 9,
   "id": "0abd52f6",
   "metadata": {},
   "outputs": [
    {
     "name": "stdout",
     "output_type": "stream",
     "text": [
      "poped item is 5\n",
      "[1, 2, 3, 4]\n"
     ]
    }
   ],
   "source": [
    "# Pop the last element from the list [1, 2, 3, 4, 5] and display both the popped item and the updated list.\n",
    "list = [1, 2, 3, 4, 5] \n",
    "print(\"poped item is\",list.pop())\n",
    "print(list)"
   ]
  },
  {
   "cell_type": "code",
   "execution_count": 10,
   "id": "feedf77f",
   "metadata": {},
   "outputs": [
    {
     "name": "stdout",
     "output_type": "stream",
     "text": [
      "The index of 15 is: 2\n"
     ]
    }
   ],
   "source": [
    "# Find and print the index of the element 15 in the list [5, 10, 15, 20, 25].\n",
    "L= [5, 10, 15, 20, 25]\n",
    "index = L.index(15)\n",
    "print(\"The index of 15 is:\", index)"
   ]
  },
  {
   "cell_type": "code",
   "execution_count": 11,
   "id": "bb4056b8",
   "metadata": {},
   "outputs": [
    {
     "name": "stdout",
     "output_type": "stream",
     "text": [
      "2 appears 4 times\n"
     ]
    }
   ],
   "source": [
    "# Count how many times the number 2 appears in the list [1, 2, 2, 3, 2, 4, 2].\n",
    "l = [1, 2, 2, 3, 2, 4, 2]\n",
    "count = l.count(2)\n",
    "print( \"2 appears\" ,count,\"times\")"
   ]
  },
  {
   "cell_type": "code",
   "execution_count": 13,
   "id": "175f0d57",
   "metadata": {},
   "outputs": [
    {
     "name": "stdout",
     "output_type": "stream",
     "text": [
      "Ascending: [3, 5, 7, 10]\n",
      "Descending: [10, 7, 5, 3]\n"
     ]
    }
   ],
   "source": [
    "# Sort the list [10, 5, 7, 3] in both ascending and descending order.\n",
    "L = [10, 5, 7, 3]\n",
    "asc = sorted(L)\n",
    "print(\"Ascending:\", asc)\n",
    "\n",
    "desc = sorted(L, reverse=True)\n",
    "print(\"Descending:\", desc)"
   ]
  },
  {
   "cell_type": "code",
   "execution_count": 14,
   "id": "eb029ad0",
   "metadata": {},
   "outputs": [
    {
     "name": "stdout",
     "output_type": "stream",
     "text": [
      "[5, 4, 3, 2, 1]\n"
     ]
    }
   ],
   "source": [
    "# Reverse the list [1, 2, 3, 4, 5] using the reverse() method.\n",
    "list = [1, 2, 3, 4, 5]\n",
    "list.reverse()\n",
    "print(list)"
   ]
  },
  {
   "cell_type": "code",
   "execution_count": 15,
   "id": "06c2955d",
   "metadata": {},
   "outputs": [
    {
     "name": "stdout",
     "output_type": "stream",
     "text": [
      "Enter the Male count: 10\n",
      "Enter the Female count: 20\n",
      "Male\n",
      "the gender count checker.\n"
     ]
    }
   ],
   "source": [
    "try:\n",
    "    M = int(input(\"Enter the Male count: \"))\n",
    "    F = int(input(\"Enter the Female count: \"))\n",
    "\n",
    "    if M > F:\n",
    "        print(\"Female\")\n",
    "    elif M < F:\n",
    "        print(\"Male\")\n",
    "    else:\n",
    "        print(\"Male and Female are equal\")\n",
    "\n",
    "except ValueError:\n",
    "    print(\"Invalid input!\")\n",
    "\n",
    "finally:\n",
    "    print(\"the gender count checker.\")\n"
   ]
  },
  {
   "cell_type": "code",
   "execution_count": null,
   "id": "348b138c",
   "metadata": {},
   "outputs": [],
   "source": []
  }
 ],
 "metadata": {
  "kernelspec": {
   "display_name": "Python 3",
   "language": "python",
   "name": "python3"
  },
  "language_info": {
   "codemirror_mode": {
    "name": "ipython",
    "version": 3
   },
   "file_extension": ".py",
   "mimetype": "text/x-python",
   "name": "python",
   "nbconvert_exporter": "python",
   "pygments_lexer": "ipython3",
   "version": "3.8.8"
  }
 },
 "nbformat": 4,
 "nbformat_minor": 5
}
