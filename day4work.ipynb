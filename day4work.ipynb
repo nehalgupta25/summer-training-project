{
 "cells": [
  {
   "cell_type": "code",
   "execution_count": 1,
   "id": "840cd0dd",
   "metadata": {},
   "outputs": [
    {
     "name": "stdout",
     "output_type": "stream",
     "text": [
      "22\n"
     ]
    }
   ],
   "source": [
    "#functions example\n",
    "x=12\n",
    "y=10\n",
    "def sum():\n",
    "    print(x+y)\n",
    "sum()"
   ]
  },
  {
   "cell_type": "code",
   "execution_count": 2,
   "id": "edd6d22a",
   "metadata": {},
   "outputs": [
    {
     "name": "stdout",
     "output_type": "stream",
     "text": [
      "17\n"
     ]
    }
   ],
   "source": [
    "def sum(a,b):\n",
    "    print(a+b)\n",
    "sum(12,5)"
   ]
  },
  {
   "cell_type": "code",
   "execution_count": 1,
   "id": "9651a008",
   "metadata": {},
   "outputs": [
    {
     "name": "stdout",
     "output_type": "stream",
     "text": [
      "2\n",
      "4\n",
      "6\n",
      "8\n",
      "10\n",
      "12\n",
      "14\n",
      "16\n",
      "18\n",
      "20\n",
      "22\n",
      "24\n",
      "26\n",
      "28\n",
      "30\n",
      "32\n",
      "34\n",
      "36\n",
      "38\n",
      "40\n",
      "42\n",
      "44\n",
      "46\n",
      "48\n",
      "50\n"
     ]
    }
   ],
   "source": [
    "#printing all even numbers between 1 and 50\n",
    "def even():\n",
    "    x=1\n",
    "    while x<=50:\n",
    "        if x%2==0:\n",
    "            print(x)\n",
    "        x+=1\n",
    "even()"
   ]
  },
  {
   "cell_type": "code",
   "execution_count": 38,
   "id": "3d0bc15f",
   "metadata": {},
   "outputs": [
    {
     "name": "stdout",
     "output_type": "stream",
     "text": [
      "square: 81\n"
     ]
    }
   ],
   "source": [
    "def square(x):\n",
    "    print(\"square:\",(x*x))\n",
    "square(9)"
   ]
  },
  {
   "cell_type": "code",
   "execution_count": 5,
   "id": "fcc1fe9f",
   "metadata": {},
   "outputs": [
    {
     "name": "stdout",
     "output_type": "stream",
     "text": [
      "enter the no:10\n",
      "10 is even\n"
     ]
    }
   ],
   "source": [
    "#checking whether number even or not\n",
    "x=int(input(\"enter the no:\"))\n",
    "def even():\n",
    "    if x%2==0:\n",
    "        print(f\"{x} is even\")\n",
    "    else:\n",
    "        print(f\"{x} is not even\")\n",
    "even()"
   ]
  },
  {
   "cell_type": "code",
   "execution_count": 9,
   "id": "771da8a7",
   "metadata": {},
   "outputs": [
    {
     "data": {
      "text/plain": [
       "50"
      ]
     },
     "execution_count": 9,
     "metadata": {},
     "output_type": "execute_result"
    }
   ],
   "source": [
    "#list concept\n",
    "lst=[10,50,2,1]\n",
    "def largest(lst):\n",
    "    return max(lst)\n",
    "largest(lst)"
   ]
  },
  {
   "cell_type": "code",
   "execution_count": 2,
   "id": "3e872193",
   "metadata": {},
   "outputs": [
    {
     "name": "stdout",
     "output_type": "stream",
     "text": [
      "[10.5, 5.5, 8]\n"
     ]
    }
   ],
   "source": [
    "#list methods practice\n",
    "l=[10.5,5.5,8]\n",
    "#l.index(5.5)\n",
    "#l.remove(2)\n",
    "#l.reverse()\n",
    "#l.clear()\n",
    "#l.sort()\n",
    "#l.extend([10,15])\n",
    "#l.append(5)\n",
    "#l.first(12)\n",
    "print(l)"
   ]
  },
  {
   "cell_type": "code",
   "execution_count": 6,
   "id": "e06358f2",
   "metadata": {},
   "outputs": [
    {
     "name": "stdout",
     "output_type": "stream",
     "text": [
      "enter the number:15\n",
      "square :  225\n"
     ]
    }
   ],
   "source": [
    "#input number to calculate and return square of that number\n",
    "num=int(input(\"enter the number:\"))\n",
    "def sq():\n",
    "    return num*num\n",
    "print(\"square : \",sq())"
   ]
  },
  {
   "cell_type": "code",
   "execution_count": 1,
   "id": "7e74bd89",
   "metadata": {},
   "outputs": [
    {
     "name": "stdout",
     "output_type": "stream",
     "text": [
      "enter the number:12\n",
      "enter another number:50\n",
      "sum :  62\n"
     ]
    }
   ],
   "source": [
    "#input 2 numbers to calculate sum\n",
    "a=int(input(\"enter the number:\"))\n",
    "b=int(input(\"enter another number:\"))\n",
    "def add():\n",
    "    return a+b\n",
    "print(\"sum : \",add())"
   ]
  },
  {
   "cell_type": "code",
   "execution_count": 7,
   "id": "734b3e96",
   "metadata": {},
   "outputs": [
    {
     "name": "stdout",
     "output_type": "stream",
     "text": [
      "largest number: 15\n"
     ]
    }
   ],
   "source": [
    "#maximun element from the list\n",
    "l=[12,10,15,7]\n",
    "def largest():\n",
    "    return max(l)\n",
    "print(\"largest number:\",largest())"
   ]
  },
  {
   "cell_type": "code",
   "execution_count": 8,
   "id": "b0a2f9c9",
   "metadata": {},
   "outputs": [
    {
     "name": "stdout",
     "output_type": "stream",
     "text": [
      "enter the no:2\n"
     ]
    },
    {
     "data": {
      "text/plain": [
       "2"
      ]
     },
     "execution_count": 8,
     "metadata": {},
     "output_type": "execute_result"
    }
   ],
   "source": [
    "#factorial\n",
    "num=int(input(\"enter the no:\"))\n",
    "def factorial(n):\n",
    "    if n == 0 or n == 1:\n",
    "        return 1\n",
    "    else:\n",
    "        return n * factorial(n - 1)\n",
    "factorial(num)"
   ]
  },
  {
   "cell_type": "code",
   "execution_count": 9,
   "id": "265f733b",
   "metadata": {},
   "outputs": [
    {
     "name": "stdout",
     "output_type": "stream",
     "text": [
      "enter the no.:5\n",
      "0 1 1 2 3 "
     ]
    }
   ],
   "source": [
    "#fiboanacci\n",
    "n=int(input(\"enter the no.:\"))\n",
    "def fib(n):\n",
    "    if n == 0:\n",
    "        return 0\n",
    "    elif n == 1:\n",
    "        return 1\n",
    "    else:\n",
    "        return fib(n-1) + fib(n-2)\n",
    "\n",
    "# Print series up to n terms\n",
    "def print_fib(n):\n",
    "    i = 0\n",
    "    while i < n:\n",
    "        print(fib(i), end=\" \")\n",
    "        i = i + 1\n",
    "print_fib(n)"
   ]
  },
  {
   "cell_type": "code",
   "execution_count": 10,
   "id": "c7ffd4e4",
   "metadata": {},
   "outputs": [
    {
     "name": "stdout",
     "output_type": "stream",
     "text": [
      "Enter a word: nehal\n",
      "Not a palindrome\n"
     ]
    }
   ],
   "source": [
    "#palindrome or not\n",
    "def is_palindrome(s):\n",
    "    return s == s[::-1]\n",
    "\n",
    "# Example\n",
    "word = input(\"Enter a word: \")\n",
    "if is_palindrome(word):\n",
    "    print(\"Palindrome\")\n",
    "else:\n",
    "    print(\"Not a palindrome\")"
   ]
  },
  {
   "cell_type": "code",
   "execution_count": null,
   "id": "3c68a0ff",
   "metadata": {},
   "outputs": [],
   "source": []
  }
 ],
 "metadata": {
  "kernelspec": {
   "display_name": "Python 3",
   "language": "python",
   "name": "python3"
  },
  "language_info": {
   "codemirror_mode": {
    "name": "ipython",
    "version": 3
   },
   "file_extension": ".py",
   "mimetype": "text/x-python",
   "name": "python",
   "nbconvert_exporter": "python",
   "pygments_lexer": "ipython3",
   "version": "3.8.8"
  }
 },
 "nbformat": 4,
 "nbformat_minor": 5
}
