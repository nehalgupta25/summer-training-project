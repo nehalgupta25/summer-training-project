{
 "cells": [
  {
   "cell_type": "code",
   "execution_count": 2,
   "id": "d812226b",
   "metadata": {},
   "outputs": [
    {
     "name": "stdout",
     "output_type": "stream",
     "text": [
      "enter the password :265\n",
      "wrong password\n",
      "enter the password :8756\n",
      "access granted\n",
      "\n"
     ]
    }
   ],
   "source": [
    "#while loop and break\n",
    "password=8756\n",
    "i=1\n",
    "while i<=4 :\n",
    "    passd=(int(input(\"enter the password :\")))\n",
    "    if passd==password:\n",
    "        print(\"access granted\")\n",
    "        break\n",
    "    else:\n",
    "        i+=1\n",
    "        print(\"wrong password\")\n",
    "print()"
   ]
  },
  {
   "cell_type": "code",
   "execution_count": 2,
   "id": "acbee8d7",
   "metadata": {},
   "outputs": [
    {
     "name": "stdout",
     "output_type": "stream",
     "text": [
      "enter the password: open123\n",
      "access granted\n"
     ]
    }
   ],
   "source": [
    "#while loop and continue\n",
    "password=\"open123\"\n",
    "attempt=8\n",
    "while attempt>0:\n",
    "    user_password=input(\"enter the password: \")\n",
    "    if user_password==password:\n",
    "        print(\"access granted\")\n",
    "        break\n",
    "    else:\n",
    "        attempt-=1\n",
    "        print(f\"wrong password! {attempt} attempt left\")\n",
    "        continue"
   ]
  },
  {
   "cell_type": "code",
   "execution_count": 7,
   "id": "941a28f8",
   "metadata": {},
   "outputs": [
    {
     "name": "stdout",
     "output_type": "stream",
     "text": [
      "enter the no: 17\n",
      "17x1=17\n",
      "17x2=34\n",
      "17x3=51\n",
      "17x4=68\n",
      "17x5=85\n",
      "17x6=102\n",
      "17x7=119\n",
      "17x8=136\n",
      "17x9=153\n",
      "17x10=170\n"
     ]
    }
   ],
   "source": [
    "#for loop \n",
    "num=int(input(\"enter the no: \"))\n",
    "i=1\n",
    "for i in range(1,11):\n",
    "    print(f\"{num}x{i}={num*i}\")"
   ]
  },
  {
   "cell_type": "code",
   "execution_count": 2,
   "id": "5b74b7c5",
   "metadata": {},
   "outputs": [
    {
     "name": "stdout",
     "output_type": "stream",
     "text": [
      "enter the num110\n",
      "enter the num215\n",
      "enter the num3100\n",
      "num3 is greatest 100\n"
     ]
    }
   ],
   "source": [
    "num1 = int(input(\"enter the num1\"))\n",
    "num2 = int(input(\"enter the num2\"))\n",
    "num3 = int(input(\"enter the num3\"))\n",
    "if num1>num2:\n",
    "   if num1 > num3:\n",
    "       print(\"num1 is greates\",num1)\n",
    "   else:\n",
    "       print(\"num3 is greatest\",num3)\n",
    "else:\n",
    "    if num2 > num3:\n",
    "       print(\"num1 is greates\",num2)\n",
    "    else:\n",
    "       print(\"num3 is greatest\",num3)  "
   ]
  },
  {
   "cell_type": "code",
   "execution_count": null,
   "id": "bd71b6e0",
   "metadata": {},
   "outputs": [],
   "source": []
  }
 ],
 "metadata": {
  "kernelspec": {
   "display_name": "Python 3",
   "language": "python",
   "name": "python3"
  },
  "language_info": {
   "codemirror_mode": {
    "name": "ipython",
    "version": 3
   },
   "file_extension": ".py",
   "mimetype": "text/x-python",
   "name": "python",
   "nbconvert_exporter": "python",
   "pygments_lexer": "ipython3",
   "version": "3.8.8"
  }
 },
 "nbformat": 4,
 "nbformat_minor": 5
}
